{
 "cells": [
  {
   "cell_type": "code",
   "execution_count": 4,
   "metadata": {},
   "outputs": [],
   "source": [
    "\n",
    "import pandas as pd"
   ]
  },
  {
   "attachments": {},
   "cell_type": "markdown",
   "metadata": {},
   "source": [
    "# Registros"
   ]
  },
  {
   "cell_type": "code",
   "execution_count": 5,
   "metadata": {},
   "outputs": [],
   "source": [
    "# Registros de Aves\n",
    "aves = pd.read_csv(\"aves_100k_.csv\")\n",
    "# Registros de Plantas\n",
    "plantas = pd.read_csv(\"plantitas800k.csv\")"
   ]
  },
  {
   "attachments": {},
   "cell_type": "markdown",
   "metadata": {},
   "source": [
    "# Filtrado por cateoria de peligro Aves"
   ]
  },
  {
   "cell_type": "code",
   "execution_count": 13,
   "metadata": {},
   "outputs": [],
   "source": [
    "avesFiltrado =aves.dropna(subset=['iucnRedListCategory']).loc[aves[\"iucnRedListCategory\"] != \"LC\"]"
   ]
  },
  {
   "attachments": {},
   "cell_type": "markdown",
   "metadata": {},
   "source": [
    "# Grilla 10x10 Aves"
   ]
  },
  {
   "cell_type": "code",
   "execution_count": 14,
   "metadata": {},
   "outputs": [
    {
     "data": {
      "text/html": [
       "<div>\n",
       "<style scoped>\n",
       "    .dataframe tbody tr th:only-of-type {\n",
       "        vertical-align: middle;\n",
       "    }\n",
       "\n",
       "    .dataframe tbody tr th {\n",
       "        vertical-align: top;\n",
       "    }\n",
       "\n",
       "    .dataframe thead th {\n",
       "        text-align: right;\n",
       "    }\n",
       "</style>\n",
       "<table border=\"1\" class=\"dataframe\">\n",
       "  <thead>\n",
       "    <tr style=\"text-align: right;\">\n",
       "      <th></th>\n",
       "      <th>gLat</th>\n",
       "      <th>gLon</th>\n",
       "      <th>latitudCentroide</th>\n",
       "      <th>longitudCentroide</th>\n",
       "      <th>registros</th>\n",
       "    </tr>\n",
       "  </thead>\n",
       "  <tbody>\n",
       "    <tr>\n",
       "      <th>0</th>\n",
       "      <td>0</td>\n",
       "      <td>1</td>\n",
       "      <td>7.132301</td>\n",
       "      <td>-75.296938</td>\n",
       "      <td>10688</td>\n",
       "    </tr>\n",
       "    <tr>\n",
       "      <th>1</th>\n",
       "      <td>7</td>\n",
       "      <td>0</td>\n",
       "      <td>10.427590</td>\n",
       "      <td>-75.549058</td>\n",
       "      <td>66800</td>\n",
       "    </tr>\n",
       "    <tr>\n",
       "      <th>2</th>\n",
       "      <td>7</td>\n",
       "      <td>4</td>\n",
       "      <td>10.265358</td>\n",
       "      <td>-74.850356</td>\n",
       "      <td>2672</td>\n",
       "    </tr>\n",
       "    <tr>\n",
       "      <th>3</th>\n",
       "      <td>9</td>\n",
       "      <td>2</td>\n",
       "      <td>10.957099</td>\n",
       "      <td>-75.110495</td>\n",
       "      <td>2672</td>\n",
       "    </tr>\n",
       "    <tr>\n",
       "      <th>4</th>\n",
       "      <td>9</td>\n",
       "      <td>8</td>\n",
       "      <td>11.227707</td>\n",
       "      <td>-74.179359</td>\n",
       "      <td>2672</td>\n",
       "    </tr>\n",
       "    <tr>\n",
       "      <th>5</th>\n",
       "      <td>9</td>\n",
       "      <td>9</td>\n",
       "      <td>11.162187</td>\n",
       "      <td>-74.079061</td>\n",
       "      <td>16032</td>\n",
       "    </tr>\n",
       "  </tbody>\n",
       "</table>\n",
       "</div>"
      ],
      "text/plain": [
       "   gLat  gLon  latitudCentroide  longitudCentroide  registros\n",
       "0     0     1          7.132301         -75.296938      10688\n",
       "1     7     0         10.427590         -75.549058      66800\n",
       "2     7     4         10.265358         -74.850356       2672\n",
       "3     9     2         10.957099         -75.110495       2672\n",
       "4     9     8         11.227707         -74.179359       2672\n",
       "5     9     9         11.162187         -74.079061      16032"
      ]
     },
     "execution_count": 14,
     "metadata": {},
     "output_type": "execute_result"
    }
   ],
   "source": [
    "avesFiltrado['gLat'] = pd.cut(avesFiltrado['decimalLatitude'], bins=10, labels=False)\n",
    "avesFiltrado['gLon'] = pd.cut(avesFiltrado['decimalLongitude'], bins=10, labels=False)\n",
    "\n",
    "grouped = avesFiltrado.groupby(['gLat', 'gLon'])\n",
    "centroids = grouped[['decimalLatitude', 'decimalLongitude']].mean()\n",
    "\n",
    "dfAves = pd.DataFrame(centroids).reset_index()\n",
    "dfAves['registros'] = grouped.size().values\n",
    "dfAves.rename(columns={'decimalLatitude': 'latitudCentroide', 'decimalLongitude': 'longitudCentroide'}, inplace=True)\n",
    "dfAves"
   ]
  },
  {
   "attachments": {},
   "cell_type": "markdown",
   "metadata": {},
   "source": [
    "# Filtrado por cateoria de peligro Plantas\n"
   ]
  },
  {
   "cell_type": "code",
   "execution_count": 16,
   "metadata": {},
   "outputs": [],
   "source": [
    "plantasFiltrado =plantas.dropna(subset=['iucnRedListCategory']).loc[plantas[\"iucnRedListCategory\"] != \"LC\"]"
   ]
  },
  {
   "attachments": {},
   "cell_type": "markdown",
   "metadata": {},
   "source": [
    "# Grilla 10x10 de plantas"
   ]
  },
  {
   "cell_type": "code",
   "execution_count": 18,
   "metadata": {},
   "outputs": [
    {
     "data": {
      "text/html": [
       "<div>\n",
       "<style scoped>\n",
       "    .dataframe tbody tr th:only-of-type {\n",
       "        vertical-align: middle;\n",
       "    }\n",
       "\n",
       "    .dataframe tbody tr th {\n",
       "        vertical-align: top;\n",
       "    }\n",
       "\n",
       "    .dataframe thead th {\n",
       "        text-align: right;\n",
       "    }\n",
       "</style>\n",
       "<table border=\"1\" class=\"dataframe\">\n",
       "  <thead>\n",
       "    <tr style=\"text-align: right;\">\n",
       "      <th></th>\n",
       "      <th>gLat</th>\n",
       "      <th>gLon</th>\n",
       "      <th>latitudCentroide</th>\n",
       "      <th>longitudCentroide</th>\n",
       "      <th>registros</th>\n",
       "    </tr>\n",
       "  </thead>\n",
       "  <tbody>\n",
       "    <tr>\n",
       "      <th>0</th>\n",
       "      <td>0</td>\n",
       "      <td>0</td>\n",
       "      <td>6.469024</td>\n",
       "      <td>-75.945972</td>\n",
       "      <td>13360</td>\n",
       "    </tr>\n",
       "    <tr>\n",
       "      <th>1</th>\n",
       "      <td>1</td>\n",
       "      <td>2</td>\n",
       "      <td>7.037416</td>\n",
       "      <td>-75.297517</td>\n",
       "      <td>13360</td>\n",
       "    </tr>\n",
       "    <tr>\n",
       "      <th>2</th>\n",
       "      <td>5</td>\n",
       "      <td>2</td>\n",
       "      <td>9.303021</td>\n",
       "      <td>-75.319001</td>\n",
       "      <td>8016</td>\n",
       "    </tr>\n",
       "    <tr>\n",
       "      <th>3</th>\n",
       "      <td>5</td>\n",
       "      <td>3</td>\n",
       "      <td>9.159064</td>\n",
       "      <td>-75.048193</td>\n",
       "      <td>18704</td>\n",
       "    </tr>\n",
       "    <tr>\n",
       "      <th>4</th>\n",
       "      <td>6</td>\n",
       "      <td>1</td>\n",
       "      <td>9.650052</td>\n",
       "      <td>-75.627161</td>\n",
       "      <td>5344</td>\n",
       "    </tr>\n",
       "    <tr>\n",
       "      <th>5</th>\n",
       "      <td>6</td>\n",
       "      <td>8</td>\n",
       "      <td>9.565338</td>\n",
       "      <td>-73.335237</td>\n",
       "      <td>2672</td>\n",
       "    </tr>\n",
       "    <tr>\n",
       "      <th>6</th>\n",
       "      <td>6</td>\n",
       "      <td>9</td>\n",
       "      <td>9.596586</td>\n",
       "      <td>-73.147092</td>\n",
       "      <td>13360</td>\n",
       "    </tr>\n",
       "    <tr>\n",
       "      <th>7</th>\n",
       "      <td>7</td>\n",
       "      <td>1</td>\n",
       "      <td>10.421633</td>\n",
       "      <td>-75.552513</td>\n",
       "      <td>2672</td>\n",
       "    </tr>\n",
       "    <tr>\n",
       "      <th>8</th>\n",
       "      <td>7</td>\n",
       "      <td>2</td>\n",
       "      <td>10.354168</td>\n",
       "      <td>-75.417588</td>\n",
       "      <td>50768</td>\n",
       "    </tr>\n",
       "    <tr>\n",
       "      <th>9</th>\n",
       "      <td>7</td>\n",
       "      <td>9</td>\n",
       "      <td>10.366138</td>\n",
       "      <td>-73.014373</td>\n",
       "      <td>29392</td>\n",
       "    </tr>\n",
       "    <tr>\n",
       "      <th>10</th>\n",
       "      <td>8</td>\n",
       "      <td>3</td>\n",
       "      <td>10.875395</td>\n",
       "      <td>-74.940779</td>\n",
       "      <td>10688</td>\n",
       "    </tr>\n",
       "    <tr>\n",
       "      <th>11</th>\n",
       "      <td>8</td>\n",
       "      <td>4</td>\n",
       "      <td>10.763477</td>\n",
       "      <td>-74.806501</td>\n",
       "      <td>2672</td>\n",
       "    </tr>\n",
       "    <tr>\n",
       "      <th>12</th>\n",
       "      <td>9</td>\n",
       "      <td>3</td>\n",
       "      <td>11.024606</td>\n",
       "      <td>-74.851345</td>\n",
       "      <td>117568</td>\n",
       "    </tr>\n",
       "    <tr>\n",
       "      <th>13</th>\n",
       "      <td>9</td>\n",
       "      <td>4</td>\n",
       "      <td>11.000372</td>\n",
       "      <td>-74.717983</td>\n",
       "      <td>10688</td>\n",
       "    </tr>\n",
       "    <tr>\n",
       "      <th>14</th>\n",
       "      <td>9</td>\n",
       "      <td>5</td>\n",
       "      <td>11.157706</td>\n",
       "      <td>-74.221963</td>\n",
       "      <td>10688</td>\n",
       "    </tr>\n",
       "    <tr>\n",
       "      <th>15</th>\n",
       "      <td>9</td>\n",
       "      <td>6</td>\n",
       "      <td>11.169413</td>\n",
       "      <td>-74.044201</td>\n",
       "      <td>162992</td>\n",
       "    </tr>\n",
       "    <tr>\n",
       "      <th>16</th>\n",
       "      <td>9</td>\n",
       "      <td>7</td>\n",
       "      <td>11.249919</td>\n",
       "      <td>-73.809670</td>\n",
       "      <td>18704</td>\n",
       "    </tr>\n",
       "    <tr>\n",
       "      <th>17</th>\n",
       "      <td>9</td>\n",
       "      <td>8</td>\n",
       "      <td>11.221507</td>\n",
       "      <td>-73.574203</td>\n",
       "      <td>2672</td>\n",
       "    </tr>\n",
       "    <tr>\n",
       "      <th>18</th>\n",
       "      <td>9</td>\n",
       "      <td>9</td>\n",
       "      <td>11.392095</td>\n",
       "      <td>-73.081726</td>\n",
       "      <td>10688</td>\n",
       "    </tr>\n",
       "  </tbody>\n",
       "</table>\n",
       "</div>"
      ],
      "text/plain": [
       "    gLat  gLon  latitudCentroide  longitudCentroide  registros\n",
       "0      0     0          6.469024         -75.945972      13360\n",
       "1      1     2          7.037416         -75.297517      13360\n",
       "2      5     2          9.303021         -75.319001       8016\n",
       "3      5     3          9.159064         -75.048193      18704\n",
       "4      6     1          9.650052         -75.627161       5344\n",
       "5      6     8          9.565338         -73.335237       2672\n",
       "6      6     9          9.596586         -73.147092      13360\n",
       "7      7     1         10.421633         -75.552513       2672\n",
       "8      7     2         10.354168         -75.417588      50768\n",
       "9      7     9         10.366138         -73.014373      29392\n",
       "10     8     3         10.875395         -74.940779      10688\n",
       "11     8     4         10.763477         -74.806501       2672\n",
       "12     9     3         11.024606         -74.851345     117568\n",
       "13     9     4         11.000372         -74.717983      10688\n",
       "14     9     5         11.157706         -74.221963      10688\n",
       "15     9     6         11.169413         -74.044201     162992\n",
       "16     9     7         11.249919         -73.809670      18704\n",
       "17     9     8         11.221507         -73.574203       2672\n",
       "18     9     9         11.392095         -73.081726      10688"
      ]
     },
     "execution_count": 18,
     "metadata": {},
     "output_type": "execute_result"
    }
   ],
   "source": [
    "plantasFiltrado['gLat'] = pd.cut(plantasFiltrado['decimalLatitude'], bins=10, labels=False)\n",
    "plantasFiltrado['gLon'] = pd.cut(plantasFiltrado['decimalLongitude'], bins=10, labels=False)\n",
    "\n",
    "groupedP = plantasFiltrado.groupby(['gLat', 'gLon'])\n",
    "centroidsP = groupedP[['decimalLatitude', 'decimalLongitude']].mean()\n",
    "\n",
    "dfPlantas = pd.DataFrame(centroidsP).reset_index()\n",
    "dfPlantas['registros'] = groupedP.size().values\n",
    "dfPlantas.rename(columns={'decimalLatitude': 'latitudCentroide', 'decimalLongitude': 'longitudCentroide'}, inplace=True)\n",
    "dfPlantas"
   ]
  },
  {
   "attachments": {},
   "cell_type": "markdown",
   "metadata": {},
   "source": [
    "# MODELO SVR"
   ]
  },
  {
   "cell_type": "code",
   "execution_count": 22,
   "metadata": {},
   "outputs": [
    {
     "name": "stdout",
     "output_type": "stream",
     "text": [
      "Requirement already satisfied: scikit-learn in c:\\users\\mcast\\anaconda3\\lib\\site-packages (1.2.1)\n",
      "Requirement already satisfied: numpy>=1.17.3 in c:\\users\\mcast\\anaconda3\\lib\\site-packages (from scikit-learn) (1.23.5)\n",
      "Requirement already satisfied: threadpoolctl>=2.0.0 in c:\\users\\mcast\\anaconda3\\lib\\site-packages (from scikit-learn) (2.2.0)\n",
      "Requirement already satisfied: joblib>=1.1.1 in c:\\users\\mcast\\anaconda3\\lib\\site-packages (from scikit-learn) (1.1.1)\n",
      "Requirement already satisfied: scipy>=1.3.2 in c:\\users\\mcast\\anaconda3\\lib\\site-packages (from scikit-learn) (1.10.0)\n"
     ]
    }
   ],
   "source": [
    "!pip install scikit-learn\n"
   ]
  },
  {
   "cell_type": "code",
   "execution_count": 23,
   "metadata": {},
   "outputs": [
    {
     "ename": "ModuleNotFoundError",
     "evalue": "No module named 'sklearn'",
     "output_type": "error",
     "traceback": [
      "\u001b[1;31m---------------------------------------------------------------------------\u001b[0m",
      "\u001b[1;31mModuleNotFoundError\u001b[0m                       Traceback (most recent call last)",
      "Cell \u001b[1;32mIn[23], line 3\u001b[0m\n\u001b[0;32m      1\u001b[0m \u001b[39mimport\u001b[39;00m \u001b[39mwarnings\u001b[39;00m\n\u001b[0;32m      2\u001b[0m warnings\u001b[39m.\u001b[39mfilterwarnings(\u001b[39m'\u001b[39m\u001b[39mignore\u001b[39m\u001b[39m'\u001b[39m)\n\u001b[1;32m----> 3\u001b[0m \u001b[39mfrom\u001b[39;00m \u001b[39msklearn\u001b[39;00m\u001b[39m.\u001b[39;00m\u001b[39msvm\u001b[39;00m \u001b[39mimport\u001b[39;00m SVC\n\u001b[0;32m      4\u001b[0m \u001b[39mfrom\u001b[39;00m \u001b[39msklearn\u001b[39;00m\u001b[39m.\u001b[39;00m\u001b[39mmodel_selection\u001b[39;00m \u001b[39mimport\u001b[39;00m train_test_split\n\u001b[0;32m      5\u001b[0m \u001b[39mfrom\u001b[39;00m \u001b[39msklearn\u001b[39;00m\u001b[39m.\u001b[39;00m\u001b[39mpreprocessing\u001b[39;00m \u001b[39mimport\u001b[39;00m MinMaxScaler\n",
      "\u001b[1;31mModuleNotFoundError\u001b[0m: No module named 'sklearn'"
     ]
    }
   ],
   "source": [
    "import warnings\n",
    "warnings.filterwarnings('ignore')\n",
    "from sklearn.svm import SVC\n",
    "from sklearn.model_selection import train_test_split\n",
    "from sklearn.preprocessing import MinMaxScaler"
   ]
  }
 ],
 "metadata": {
  "kernelspec": {
   "display_name": "Python 3",
   "language": "python",
   "name": "python3"
  },
  "language_info": {
   "codemirror_mode": {
    "name": "ipython",
    "version": 3
   },
   "file_extension": ".py",
   "mimetype": "text/x-python",
   "name": "python",
   "nbconvert_exporter": "python",
   "pygments_lexer": "ipython3",
   "version": "3.11.3"
  },
  "orig_nbformat": 4
 },
 "nbformat": 4,
 "nbformat_minor": 2
}
